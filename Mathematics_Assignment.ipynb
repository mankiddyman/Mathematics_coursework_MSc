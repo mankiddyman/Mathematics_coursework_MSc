{
 "cells": [
  {
   "cell_type": "markdown",
   "metadata": {},
   "source": [
    "**[Do not edit the contents of this cell]**\n",
    "\n",
    "# MSc in Bioinformatics and Theoretical Systems Biology - Mathematics Assignment 2021/22\n",
    "\n",
    "This assignment is to be completed in Python 3 and returned as a clean Jupyter notebook cleared of its output. This is important otherwise Turnitin will reject the submission.\n",
    "\n",
    "The answers require text and/or code and each one is assigned an individual cell with the message \"*(Write your text here)*\" or \"*(Write your code here)*\". **You only need to write on those cells**. \n",
    "\n",
    "<span style='color:Blue'> Text answers  </span>: You need to write enough text to make clear the steps you followed to reach the answer. When there are mathematical derivations involved, it is recommended to use LaTeX syntax by enclosing the expression with dollar symbols e.g. `$ x^2 = \\sqrt{a} $`  becomes $x^2 = \\sqrt{a}$. Even if you are not familiar with it, I encourage you to give it a try, there are plenty of tutorials, such as [this one](https://www.youtube.com/watch?v=Jp0lPj2-DQA&ab_channel=Dr.TreforBazett).\n",
    "\n",
    "<span style='color:Blue'> Code answers  </span>: You need to write a small piece of code that returns the output required when running the cell. This can be a numerical or a graphical output depending on the exercise, and should be clear to interpret. For instance, if the problem asks for the value of a variable $x$, the code should contain a line `print('the value of x is', x)`. On the other hand, if the output is a plot, it should have clear axes labels and legends.\n",
    "\n",
    "If you ecounter technical problems, do not hesitate to contact me `r.perez-carrasco@imperial.ac.uk`"
   ]
  },
  {
   "cell_type": "code",
   "execution_count": null,
   "metadata": {},
   "outputs": [],
   "source": [
    "# You can use the following libraries for your answers\n",
    "import matplotlib.pyplot as plt\n",
    "import seaborn as sns\n",
    "import numpy as np\n",
    "import scipy as sp"
   ]
  },
  {
   "cell_type": "markdown",
   "metadata": {},
   "source": [
    "# Q1. Transcendental equations\n",
    "\n",
    "The following equation does not have an analytical solution\n",
    "$$ \\sin^2(x) = 1-x$$\n",
    "We can find approximations to the solution ($x^*$) using different approaches:\n",
    "\n",
    "**a)** Plot the functions $f(x) = \\sin^2(x)$ and $g(x) = 1-x$, and give an approximation by analyzing the plot. "
   ]
  },
  {
   "cell_type": "markdown",
   "metadata": {},
   "source": [
    "<span style='color:Blue'> Code Answer  </span>"
   ]
  },
  {
   "cell_type": "code",
   "execution_count": null,
   "metadata": {},
   "outputs": [],
   "source": [
    "#(Write your code here)\n",
    "#first we will define two functions for f(x) and g(x) which take a numpy array as their sole arguement\n",
    "def f_x(x_array):\n",
    "    if isinstance(x_array,np.ndarray)==True:\n",
    "        y_array=np.sin(x_array)**2\n",
    "        return y_array\n",
    "    else:\n",
    "        return \"Please input a numpy array\"\n",
    "def g_x(x_array):\n",
    "    if isinstance(x_array,np.ndarray)==True:\n",
    "        y_array=1-x_array\n",
    "        return y_array\n",
    "    else:\n",
    "            return \"Please input a numpy array\"\n",
    "\n",
    "#we will define data to be plotted and generate arrays for x,f(x) and g(x)\n",
    "x_array = np.array(np.arange(-3,3,0.01))  # Data for the x-axis\n",
    "f_x_array=f_x(x_array)  # Data for the y-axis\n",
    "g_x_array=g_x(x_array)\n",
    "\n",
    "#plotting\n",
    "plt.plot(x_array, f_x_array, 'r', label=(r'$\\mathrm{f(x)}=\\mathrm{{sin}^{2}(x)}$'))   # Plot the data. The 'r' sets the colour to red\n",
    "plt.plot(x_array, g_x_array, 'b', label=(r'$\\mathrm{g(x)}=\\mathrm{1-x}$'))   # Plot the data. The 'b' sets the colour to blue\n",
    "plt.xlabel(\"x\")\n",
    "plt.ylabel(\"y\")   # Add axis labels\n",
    "plt.title(  r\"A singular solution to $\\mathrm{f(x)=g(x)}$ exists between $0$ and $1$\")      # Add a title\n",
    "plt.legend(loc='lower left')       # Add the key\n",
    "plt.show()  # Display the plot\n"
   ]
  },
  {
   "cell_type": "markdown",
   "metadata": {},
   "source": [
    "<span style='color:Blue'> Text answer.  </span>\n",
    "\n",
    "Based on the graph showing a monotonically decreasing straight line and a periodic function it can be concluded that a singular solution to $f(x)=g(x)$ exists in the itnerval $[0,1]$\n",
    "\n",
    "---"
   ]
  },
  {
   "cell_type": "markdown",
   "metadata": {},
   "source": [
    "**b)** Find a linear approximation (Taylor expansion up to 1st order) of $f(x)$ around the point $x_0=\\pi/4$ and use the result to approximate $x^*$. Hint: $\\sin(\\pi/4)=\\cos(\\pi/4)=\\sqrt{2}/2$"
   ]
  },
  {
   "cell_type": "markdown",
   "metadata": {},
   "source": [
    "<span style='color:Blue'> Text answer  </span>\n",
    "\n",
    "\n",
    "The formula for the taylor series is \n",
    "\n",
    "$f(x)=\\sum_{k=0}^\\infty f^{(k)}(a)\\frac{(x-a)^k}{k!}$\n",
    "\n",
    "Expanding $f(x)=\\sin^{2}(x)$ around $x_0=\\frac{\\pi}{4}$\n",
    "\n",
    "$f(x) \\approx f(x_{0})+\\frac{1}{1!}f'(x_{0})(x-x_{0})+...$\n",
    "\n",
    "$f(x) \\approx \\sin^{2}(x_{0})+\\frac{1}{1!}2\\sin(x_{0})\\cos(x_{0})(x-x_{0})$\n",
    "\n",
    "$f(x) \\approx (\\frac{\\sqrt{2}}{2})^{2}+2\\times\\frac{1}{2}\\times(x-\\frac{\\pi}{4})$\n",
    "\n",
    "$f(x) \\approx \\frac{1}{2} + (x-\\frac{\\pi}{4})$\n",
    "\n",
    "$g(x)=f(x)$\n",
    "\n",
    "$1-x\\approx \\frac{1}{2} + (x-\\frac{\\pi}{4})$\n",
    "\n",
    "$x^{*}\\approx0.643$\n",
    "\n",
    "\n",
    "---"
   ]
  },
  {
   "cell_type": "markdown",
   "metadata": {},
   "source": [
    "**c)** Use the root finding routine [brentq](https://docs.scipy.org/doc/scipy/reference/generated/scipy.optimize.brentq.html#scipy.optimize.brentq) to obtain an accurate numerical approximation. This algorithm finds numerical solutions to equations in the form $F(x)=0$. In order to use it in our problem, define the function $F(x) = f(x)-g(x)$. Hint: You will need to provide an interval $[a,b]$ that contains the solution $x^*$, use the plots from a) to choose the interval "
   ]
  },
  {
   "cell_type": "markdown",
   "metadata": {},
   "source": [
    "<span style='color:Blue'> Code Answer  </span>\n"
   ]
  },
  {
   "cell_type": "code",
   "execution_count": null,
   "metadata": {},
   "outputs": [],
   "source": [
    "#defining capital F(x)\n",
    "def F_x(x):\n",
    "    return np.sin(x)**2-(1-x)\n",
    "root = sp.optimize.brentq(F_x, 0, 1)\n",
    "print(root)"
   ]
  },
  {
   "cell_type": "markdown",
   "metadata": {},
   "source": [
    "---"
   ]
  },
  {
   "cell_type": "markdown",
   "metadata": {},
   "source": [
    "**d)** Compare and discuss the solutions found using the three different methods. Hint: Check the documentation of the functions you used to see if you can control the precision of the answer. "
   ]
  },
  {
   "cell_type": "markdown",
   "metadata": {},
   "source": [
    "<span style='color:Blue'> Text Answer  </span>\n",
    "\n",
    "All three methods agree, from the graph visual inspection of the intersection places $x^*$ in the interval $[0.6,0.7]$. The taylor series offers a rational approximation to $x^*$ but could be improved iteratively by changing $x_{0}$ closer to the previous estimate of $x^*$ or alternatively, extend the taylor series polynomial to the 2nd or 3rd orders which could improve precision but lower speed of computation. Brent's method seems to provide the fastest result with the least amount of user input which can be useful in certain circumstances where calculating a taylor series expansion is non trivial.\n",
    "\n",
    "---"
   ]
  },
  {
   "cell_type": "markdown",
   "metadata": {},
   "source": [
    "# Q2. Systems of equations"
   ]
  },
  {
   "cell_type": "markdown",
   "metadata": {},
   "source": [
    "We want to find the solution of the following system of equations\n",
    "$$\\left.\\begin{array}{rcl} y\\ln(x) &=& 3 \\\\ (y+2)\\ln(x) &=& a \\end{array}\\right\\}$$\n",
    "where $a$ is a constant"
   ]
  },
  {
   "cell_type": "markdown",
   "metadata": {},
   "source": [
    "**a)** Find the analytical solution $(x,y)$ as a function of $a$"
   ]
  },
  {
   "cell_type": "markdown",
   "metadata": {},
   "source": [
    "<span style='color:Blue'> Text answer  </span>\n",
    "\n",
    "$y\\ln(x)=3$\n",
    "\n",
    "$y\\ln(x)+2\\ln(x)=a$\n",
    "\n",
    "$3+2\\ln(x)=a$\n",
    "\n",
    "$2\\ln(x)=a-3$\n",
    "\n",
    "$\\ln(x)=\\frac{a-3}{2}$\n",
    "\n",
    "$x=e^{\\frac{a-3}{2}}$\n",
    "\n",
    "$y\\times(\\frac{a-3}{2})=3$\n",
    "\n",
    "$y=\\frac{6}{a-3}$\n",
    "\n",
    "---"
   ]
  },
  {
   "cell_type": "markdown",
   "metadata": {},
   "source": [
    "**b)** For which values of $a$ the system does not have any solution"
   ]
  },
  {
   "cell_type": "markdown",
   "metadata": {},
   "source": [
    "<span style='color:Blue'> Text answer  </span>\n",
    "\n",
    "When $a=3$ ,$y$ is undefined. and so there is no solution to (x,y)\n",
    "\n",
    "---"
   ]
  },
  {
   "cell_type": "markdown",
   "metadata": {},
   "source": [
    "**c)** Plot the curves $y(x)$ described by each equation of the system for the values of $a$ found in b). Discuss the result. "
   ]
  },
  {
   "cell_type": "markdown",
   "metadata": {},
   "source": [
    "<span style='color:Blue'> Code answer  </span>"
   ]
  },
  {
   "cell_type": "code",
   "execution_count": null,
   "metadata": {},
   "outputs": [],
   "source": [
    "def y_1(x):\n",
    "    return 3/np.log(x)\n",
    "def y_2(x,a):\n",
    "    return a/np.log(x)-2\n",
    "x_array = np.array(np.arange(0,5,0.01))  # Data for the x-axis\n",
    "y_1_array=y_1(x_array)  # Data for the y-axis\n",
    "#function is undefined at a=3\n",
    "y_2_array=y_2(x_array,a=3) #a set to 3\n",
    "#plotting\n",
    "plt.plot(x_array, y_1_array, 'r', label=(r'$y_1(x)=\\frac{3}{\\ln(x)}$'))   # Plot the data. The 'r' sets the colour to red\n",
    "plt.plot(x_array, y_2_array, 'b', label=(r'$y_2(x)=\\frac{a}{\\ln(x)}-2$'))   # Plot the data. The 'b' sets the colour to blue\n",
    "plt.xlabel(\"x\")\n",
    "plt.ylabel(\"y\")   # Add axis labels\n",
    "#plt.title(  \"$$\")      # Add a title\n",
    "plt.legend(loc='lower right')       # Add the key\n",
    "plt.ylim(-10,10)\n",
    "\n",
    "plt.show()  # Display the plot\n",
    "\n"
   ]
  },
  {
   "cell_type": "markdown",
   "metadata": {},
   "source": [
    "<span style='color:Blue'> Text answer  </span>\n",
    "\n",
    "Although both graphs converge to the same points at $(1,-\\infty) \\text{and} (1,+\\infty)$.  $y_1(x)$ and $y_2(x)$ have a constant phase difference of $2$ in the horizontal axis. Because these functions are monotonic they can never intersect and so no solution exists for these pairs of equations."
   ]
  },
  {
   "cell_type": "markdown",
   "metadata": {},
   "source": [
    "---"
   ]
  },
  {
   "cell_type": "markdown",
   "metadata": {},
   "source": [
    "# Q3. Differential Equations"
   ]
  },
  {
   "cell_type": "markdown",
   "metadata": {},
   "source": [
    "The expression levels of a gene ($p$) increases in time ($t\\geq 0$) following the differential equation:\n",
    "$$t^2\\frac{\\mathrm d p}{\\mathrm d t} = p$$\n",
    "**a)** Knowing that the expression saturates at a level $p=1$, find the an analytical expression for $p(t)$ \n"
   ]
  },
  {
   "cell_type": "markdown",
   "metadata": {},
   "source": [
    "<span style='color:Blue'> Text answer  </span>\n",
    "\n",
    "$\\int\\frac{1}{p}dt=\\int\\frac{1}{t^2}dt$\n",
    "\n",
    "$\\ln{p}=\\frac{-1}{t}+A$\n",
    "\n",
    "$p=e^{\\frac{-1}{t}+A}$\n",
    "\n",
    "$p=e^{\\frac{-1}{t}}\\times e^{A}$\n",
    "\n",
    "$p=e^{\\frac{-1}{t}}\\times B$\n",
    "\n",
    "Using the boundary conditions: $t=\\infty$ $p=1$ $B=?$\n",
    "\n",
    "$1=1\\times B$\n",
    "\n",
    "$B=1$\n",
    "\n",
    "$\\therefore$\n",
    "\n",
    "$p(t)=e^{\\frac{-1}{t}}$\n",
    "\n",
    "---"
   ]
  },
  {
   "cell_type": "markdown",
   "metadata": {},
   "source": [
    "**b)** Using the analytical expression of $p(t)$ and its derivative, plot as a function of time: $t^2$, $\\frac{\\mathrm d p}{\\mathrm d t}$, and $p$. Are the results consistent with the differential equation?"
   ]
  },
  {
   "cell_type": "markdown",
   "metadata": {},
   "source": [
    "<span style='color:Blue'> Code answer  </span>"
   ]
  },
  {
   "cell_type": "code",
   "execution_count": null,
   "metadata": {},
   "outputs": [],
   "source": [
    "def p_t(arr):# p(t)\n",
    "    if isinstance(arr,np.ndarray)==True:\n",
    "        out_arr=np.exp(-(1/((arr))))\n",
    "        return out_arr\n",
    "    else:\n",
    "        return \"Please input a numpy array\"\n",
    "    \n",
    "def dp_dt(arr):# d/dt(p(t))\n",
    "    if isinstance(arr,np.ndarray)==True:\n",
    "        out_arr=p_t(arr)/arr**2\n",
    "        return out_arr\n",
    "    else:\n",
    "        return \"Please input a numpy array\"\n",
    "    \n",
    "t_array=np.arange(0,20,0.01)\n",
    "t_square_array=t_array**2\n",
    "p_t_array=p_t(t_array)\n",
    "dp_dt_array=dp_dt(t_array)\n",
    "fig, axs= plt.subplots(1,3, figsize=(10,5))\n",
    "axs[0].plot(t_array,p_t_array, 'r')\n",
    "axs[0].set_title(r'$p(t)=e^{-1/t}$')\n",
    "axs[0].set_xlabel(\"t\")\n",
    "axs[1].plot(t_array,t_square_array, 'g')\n",
    "axs[1].set_title(r'$t^{2}$')\n",
    "axs[1].set_xlabel(\"t\")\n",
    "axs[2].plot(t_array,dp_dt_array, 'b')\n",
    "axs[2].set_xlabel(\"t\")\n",
    "axs[2].set_title(r'$\\frac{dp}{dt}=\\frac{p(t)}{t^{2}}}$')\n",
    "\n",
    "\n"
   ]
  },
  {
   "cell_type": "markdown",
   "metadata": {},
   "source": [
    "<span style='color:Blue'> Text answer  </span>\n",
    "\n",
    "The results are consistent with our expectations. We see that for short $t$ $p$ increases much more rapidly than $t^2$  and so the gradient also increases rapidly. As $t^2$ grows the fraction $\\frac{p(t)}{t^2}$ becomes smaller and so $p(t)$'s gradient decreases rapidly and quickly reaches 0. \n",
    "\n",
    "---"
   ]
  },
  {
   "cell_type": "markdown",
   "metadata": {},
   "source": [
    "**c)** Write an equation for the average expression level during the interval $[t_1,t_2]$. You can express the result in integral form since the integral should not have an analytical solution.  "
   ]
  },
  {
   "cell_type": "markdown",
   "metadata": {},
   "source": [
    "<span style='color:Blue'> Text answer  </span>\n",
    "\n",
    "\n",
    "$\\frac{1}{t_{2}-t_{1}}\\int^{t_2}_{t_1}e^{-t^{-1}}dt$\n",
    "---"
   ]
  },
  {
   "cell_type": "markdown",
   "metadata": {},
   "source": [
    "**d)** Calculate the average gene expression level between times $t=0$ and $t=1$. Hint: Since you need to solve a definite integral without an analytical solution, you can approximate the integral numerically by using the Scipy function [scipy.integrate.quad](https://docs.scipy.org/doc/scipy/reference/reference/generated/scipy.integrate.quad.html#scipy.integrate.quad)"
   ]
  },
  {
   "cell_type": "markdown",
   "metadata": {},
   "source": [
    "<span style='color:Blue'> Code answer  </span>\n"
   ]
  },
  {
   "cell_type": "code",
   "execution_count": null,
   "metadata": {},
   "outputs": [],
   "source": [
    "from scipy import integrate\n",
    "t_2=1\n",
    "t_1=0\n",
    "p_t = lambda t: np.exp(-t**(-1))\n",
    "int_evaluated=integrate.quad(p_t,t_1,t_2)[0]\n",
    "print(\"Average gene expression in t=[0,1] is\",int_evaluated/(t_2-t_1))\n",
    "#(t_2-t_1)"
   ]
  },
  {
   "cell_type": "markdown",
   "metadata": {},
   "source": [
    "# Q4. Linear algebra"
   ]
  },
  {
   "cell_type": "markdown",
   "metadata": {},
   "source": [
    "The evolution in time of three variables $x,y,z$; can be described through the system of linear differential equations:\n",
    "$$ \\left.\\begin{array}{rcl}\n",
    "\\dot x &=& 4x + 3z\\\\\n",
    "\\dot y &=& z\\\\\n",
    "\\dot z &=& -x\n",
    "\\end{array}\\right \\}\n",
    "$$"
   ]
  },
  {
   "cell_type": "markdown",
   "metadata": {},
   "source": [
    "**a)** Find the matrix $A$ that allows to write the system in the matrix form $\\dot{\\vec v} = A \\vec v$, where $\\vec v$ is a vector with components $\\vec v=(x,y,z)$"
   ]
  },
  {
   "cell_type": "markdown",
   "metadata": {},
   "source": [
    "<span style='color:Blue'> Text answer  </span>\n",
    "\n",
    "$$\n",
    "\\dot{\\vec v}=\n",
    "\\begin{pmatrix}\n",
    "4 & 0 & 3\\\\\n",
    "0 & 0 & 1\\\\\n",
    "-1 & 0 & 0\n",
    "\\end{pmatrix} \n",
    "\\times\n",
    "\\begin{pmatrix}\n",
    "x\\\\\n",
    "y\\\\\n",
    "z\n",
    "\\end{pmatrix}\n",
    "$$\n",
    "$$\n",
    "A=\n",
    "\\begin{pmatrix}\n",
    "4 & 0 & 3\\\\\n",
    "0 & 0 & 1\\\\\n",
    "-1 & 0 & 0\n",
    "\\end{pmatrix} \n",
    "$$"
   ]
  },
  {
   "cell_type": "markdown",
   "metadata": {},
   "source": [
    "**b)** Find the characteristic polynomial of $A$, and find analytically the eigenvalues of the matrix $A$"
   ]
  },
  {
   "cell_type": "markdown",
   "metadata": {},
   "source": [
    "<span style='color:Blue'> Text answer  </span>\n",
    "\n",
    "$|A-\\mathbb{I}|=0= \\lambda(-\\lambda^{2}+4\\lambda-3)    $\n",
    "\n",
    "$0=\\lambda(\\lambda-3)(\\lambda-1)$\n",
    "\n",
    "$\\lambda_{1}=0$\n",
    "\n",
    "$\\lambda_{2}=1$ \n",
    "\n",
    "$\\lambda_{3}=3$ \n",
    "\n"
   ]
  },
  {
   "cell_type": "markdown",
   "metadata": {},
   "source": [
    "**c)** Find analytically the eigenvectors $\\vec v=(v_1,v_2,v_3)$ corresponding to each eigenvalue. Hint: Try to fix the second component of each eigenvector $v_2=1$\n"
   ]
  },
  {
   "cell_type": "markdown",
   "metadata": {},
   "source": [
    "<span style='color:Blue'> Text answer  </span>\n",
    "\n",
    "\n",
    "\n",
    "$$\n",
    "\\begin{pmatrix}\n",
    "4 & 0 & 3\\\\\n",
    "0 & 0 & 1\\\\\n",
    "-1 & 0 & 0\n",
    "\\end{pmatrix} \n",
    "\\times\n",
    "\\vec v_{n}\n",
    "=\\lambda_{n} \\times\n",
    "\\vec v_{n}\n",
    "$$\n",
    "$$\n",
    "\\text{ Where } \n",
    "\\vec v_{n} =\n",
    "\\begin{pmatrix}\n",
    "a_{n} \\\\\n",
    "b_{n} \\\\\n",
    "c_{n} \n",
    "\\end{pmatrix} \n",
    "\\text{For n in} [1,3]\n",
    "$$\n",
    "\n",
    "\n",
    "$\\lambda_{1}=0$ ,\n",
    "$\\vec v_{1}=(0,1,0)$\n",
    "\n",
    "$\\lambda_{2}=1$ ,$\\vec v_{2}=(-1,1,1)$\n",
    "\n",
    "$\\lambda_{3}=3$ , $\\vec v_{1}=(-9,1,3)$\n",
    "\n"
   ]
  },
  {
   "cell_type": "markdown",
   "metadata": {},
   "source": [
    "**d)** In general, matrices of several dimensions cannot be diagonalized analytically since they require to solve a polynomial equation with a high degree. In those cases the matrices need to be diagonalized numerically. Diagonalize numerically the matrix $A$ and discuss whether you obtain the same eigenvalues and eigenvectors than the analytical ones. Hint: You can use the Scipy function [scipy.linalg.eig()](https://docs.scipy.org/doc/scipy/reference/generated/scipy.linalg.eig.html). Note that the eigenvectors are the columns of the output matrix."
   ]
  },
  {
   "cell_type": "markdown",
   "metadata": {},
   "source": [
    "<span style='color:Blue'> Code answer  </span>\n"
   ]
  },
  {
   "cell_type": "code",
   "execution_count": null,
   "metadata": {},
   "outputs": [],
   "source": [
    "from scipy import linalg\n",
    "mat=np.array([[4,0,3],[0,0,1],[-1,0,0]])\n",
    "eigen_values,eigen_vectors=linalg.eig(mat)\n",
    "print(eigen_vectors)\n",
    "\n",
    "scale=(1/eigen_vectors[0:3,1]) #second element of v, equivalent to b_n , required to scale eigenvectors to b_n=1\n",
    "#eigen_vectors*scale\n",
    "print(\"scale\",scale)\n",
    "print(\"v1\",eigen_vectors[:,0]*scale[0])\n",
    "print(\"v2\",eigen_vectors[:,2]*scale[2])\n",
    "print(\"v3\",eigen_vectors[:,1]*scale[1])\n",
    "\n"
   ]
  },
  {
   "cell_type": "markdown",
   "metadata": {},
   "source": [
    "<span style='color:Blue'> Text answer  </span>\n",
    "\n",
    "All the eigenvectors are approximately found via the numerical method although as float point numbers. It is important to know that the directions of the vectors are all the same. NB there seems to be some issue in scaling eigenvector two to 1 for some reason.\n",
    "\n",
    "---"
   ]
  },
  {
   "cell_type": "markdown",
   "metadata": {},
   "source": [
    "**e)** Dicuss the meaning of the eigenvector with eigenvalue $\\lambda = 0$. In order to do so, you can plot a trajectory resulting from solving numerically the system of ODEs with starting initial condition $x=0,y=1,z=0$. You can use the Sciypy ODE dynamical system solver [solver_ivp](https://docs.scipy.org/doc/scipy/reference/generated/scipy.integrate.solve_ivp.html#scipy.integrate.solve_ivp), part of the code is already written for you"
   ]
  },
  {
   "cell_type": "markdown",
   "metadata": {},
   "source": [
    "<span style='color:Blue'> Code answer  </span>"
   ]
  },
  {
   "cell_type": "code",
   "execution_count": null,
   "metadata": {},
   "outputs": [],
   "source": [
    "def rhs_ODEs(t,v): return [4*v[0]+3*v[2], v[2], -v[0]] ## ODEs definition\n",
    "init = [0, 1, 0] # state of the system at t=0\n",
    "trajectory = sp.integrate.solve_ivp(rhs_ODEs, [0,10], init) ## Calling the solver\n",
    "t, x, y, z = trajectory.t,trajectory.y[0], trajectory.y[1], trajectory.y[2] ## t,x,y,z is the resulting trajectory\n",
    "fig, axs= plt.subplots(1,3, figsize=(10,5))\n",
    "\n",
    "axs[0].plot(t,x)\n",
    "axs[1].plot(t,y)\n",
    "axs[2].plot(t,z)\n",
    "\n",
    "\n"
   ]
  },
  {
   "cell_type": "markdown",
   "metadata": {},
   "source": [
    "<span style='color:Blue'> Text answer  </span>\n",
    "\n",
    "When the eigenvalue = 0 the transformation maps x,y and z to 0. This makes sense given the system as with 0 x and 0 z to start with all derivates are = 0.\n",
    "\n",
    "---"
   ]
  },
  {
   "cell_type": "code",
   "execution_count": null,
   "metadata": {},
   "outputs": [],
   "source": []
  }
 ],
 "metadata": {
  "kernelspec": {
   "display_name": "Python 3 (ipykernel)",
   "language": "python",
   "name": "python3"
  },
  "language_info": {
   "codemirror_mode": {
    "name": "ipython",
    "version": 3
   },
   "file_extension": ".py",
   "mimetype": "text/x-python",
   "name": "python",
   "nbconvert_exporter": "python",
   "pygments_lexer": "ipython3",
   "version": "3.8.13"
  },
  "vscode": {
   "interpreter": {
    "hash": "ba16fd9f84400e5dd1811ddc1f1c1ab06f6c8d23b67e3c4acee5f2ccc73d4a06"
   }
  }
 },
 "nbformat": 4,
 "nbformat_minor": 4
}
